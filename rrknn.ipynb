{
  "nbformat": 4,
  "nbformat_minor": 0,
  "metadata": {
    "colab": {
      "provenance": [],
      "authorship_tag": "ABX9TyN15PMmj32Mu0AtivsoBuo6",
      "include_colab_link": true
    },
    "kernelspec": {
      "name": "python3",
      "display_name": "Python 3"
    },
    "language_info": {
      "name": "python"
    }
  },
  "cells": [
    {
      "cell_type": "markdown",
      "metadata": {
        "id": "view-in-github",
        "colab_type": "text"
      },
      "source": [
        "<a href=\"https://colab.research.google.com/github/raushan80-443/rrknn/blob/main/rrknn.ipynb\" target=\"_parent\"><img src=\"https://colab.research.google.com/assets/colab-badge.svg\" alt=\"Open In Colab\"/></a>"
      ]
    },
    {
      "cell_type": "code",
      "execution_count": 2,
      "metadata": {
        "colab": {
          "base_uri": "https://localhost:8080/"
        },
        "id": "XQCD4_qyW_-g",
        "outputId": "30ef66e4-3375-4422-86a0-9ed8ff3d1937"
      },
      "outputs": [
        {
          "output_type": "stream",
          "name": "stdout",
          "text": [
            "Requirement already satisfied: pandas in /usr/local/lib/python3.10/dist-packages (2.2.2)\n",
            "Requirement already satisfied: scikit-learn in /usr/local/lib/python3.10/dist-packages (1.5.2)\n",
            "Requirement already satisfied: matplotlib in /usr/local/lib/python3.10/dist-packages (3.7.1)\n",
            "Requirement already satisfied: seaborn in /usr/local/lib/python3.10/dist-packages (0.13.2)\n",
            "Requirement already satisfied: numpy>=1.22.4 in /usr/local/lib/python3.10/dist-packages (from pandas) (1.26.4)\n",
            "Requirement already satisfied: python-dateutil>=2.8.2 in /usr/local/lib/python3.10/dist-packages (from pandas) (2.8.2)\n",
            "Requirement already satisfied: pytz>=2020.1 in /usr/local/lib/python3.10/dist-packages (from pandas) (2024.2)\n",
            "Requirement already satisfied: tzdata>=2022.7 in /usr/local/lib/python3.10/dist-packages (from pandas) (2024.2)\n",
            "Requirement already satisfied: scipy>=1.6.0 in /usr/local/lib/python3.10/dist-packages (from scikit-learn) (1.13.1)\n",
            "Requirement already satisfied: joblib>=1.2.0 in /usr/local/lib/python3.10/dist-packages (from scikit-learn) (1.4.2)\n",
            "Requirement already satisfied: threadpoolctl>=3.1.0 in /usr/local/lib/python3.10/dist-packages (from scikit-learn) (3.5.0)\n",
            "Requirement already satisfied: contourpy>=1.0.1 in /usr/local/lib/python3.10/dist-packages (from matplotlib) (1.3.0)\n",
            "Requirement already satisfied: cycler>=0.10 in /usr/local/lib/python3.10/dist-packages (from matplotlib) (0.12.1)\n",
            "Requirement already satisfied: fonttools>=4.22.0 in /usr/local/lib/python3.10/dist-packages (from matplotlib) (4.54.1)\n",
            "Requirement already satisfied: kiwisolver>=1.0.1 in /usr/local/lib/python3.10/dist-packages (from matplotlib) (1.4.7)\n",
            "Requirement already satisfied: packaging>=20.0 in /usr/local/lib/python3.10/dist-packages (from matplotlib) (24.1)\n",
            "Requirement already satisfied: pillow>=6.2.0 in /usr/local/lib/python3.10/dist-packages (from matplotlib) (10.4.0)\n",
            "Requirement already satisfied: pyparsing>=2.3.1 in /usr/local/lib/python3.10/dist-packages (from matplotlib) (3.2.0)\n",
            "Requirement already satisfied: six>=1.5 in /usr/local/lib/python3.10/dist-packages (from python-dateutil>=2.8.2->pandas) (1.16.0)\n"
          ]
        }
      ],
      "source": [
        "!pip install pandas scikit-learn matplotlib seaborn"
      ]
    },
    {
      "cell_type": "code",
      "source": [
        "import numpy as np\n",
        "from sklearn.datasets import load_breast_cancer\n",
        "from sklearn.model_selection import train_test_split\n",
        "from sklearn.preprocessing import StandardScaler\n",
        "from sklearn.neighbors import KNeighborsClassifier\n",
        "from sklearn.metrics import accuracy_score\n",
        "from sklearn.metrics import accuracy_score, confusion_matrix, classification_report\n",
        "\n",
        "# # Load the iris dataset\n",
        "# iris = load_iris()\n",
        "# X = iris.data\n",
        "# y = iris.target\n",
        "\n",
        "# Load the breast cancer\n",
        "\n",
        "data = load_breast_cancer()\n",
        "X = data.data  # Features\n",
        "y = data.target  # Labels (0: malignant, 1: benign)\n",
        "\n",
        "\n",
        "# Split the dataset into training and testing sets\n",
        "X_train, X_test, y_train, y_test = train_test_split(X, y, test_size=0.2, random_state=42)\n",
        "\n",
        "# Standardize the dataset (scaling features)\n",
        "scaler = StandardScaler()\n",
        "X_train = scaler.fit_transform(X_train)\n",
        "X_test = scaler.transform(X_test)\n",
        "\n",
        "# Define the generalized social distance function\n",
        "def generalized_social_distance(x, y, data_set=None, k=2):\n",
        "    def euclidean_distance(p1, p2):\n",
        "        return np.sqrt(np.sum((p1 - p2) ** 2))\n",
        "\n",
        "    # Calculate distances between x and all other points in the data_set using the distance_metric\n",
        "    distances_x = [euclidean_distance(x, point) for point in data_set]\n",
        "    distances_y = [euclidean_distance(y, point) for point in data_set]\n",
        "\n",
        "    # Calculate ranks\n",
        "    mx_y = sum(1 for dx in distances_x if 0 < dx < euclidean_distance(x, y))\n",
        "    mx_eq = sum(1 for dx in distances_x if dx == euclidean_distance(x, y))\n",
        "    my_x = sum(1 for dy in distances_y if 0 < dy < euclidean_distance(x, y))\n",
        "    my_eq = sum(1 for dy in distances_y if dy == euclidean_distance(x, y))\n",
        "\n",
        "    # Handle the case where mx_y + mx_eq or my_x + my_eq is zero\n",
        "    if mx_y + mx_eq == 0 or my_x + my_eq == 0:\n",
        "        return float('inf')\n",
        "\n",
        "    # Calculate Lk distance\n",
        "    lk_distance = (mx_y**k + mx_eq**k) / (mx_y + mx_eq) + (my_x**k + my_eq**k) / (my_x + my_eq)\n",
        "\n",
        "    # Calculate Generalized Social Distance\n",
        "    generalized_social_distance = lk_distance / (1 + lk_distance)\n",
        "\n",
        "    return generalized_social_distance\n",
        "\n",
        "# Wrap the distance function to pass to KNeighborsClassifier\n",
        "def generalized_social_distance_wrapper(x, y):\n",
        "    return generalized_social_distance(x, y, data_set=X_train)\n",
        "\n",
        "# Initialize the KNeighborsClassifier with the custom metric\n"
      ],
      "metadata": {
        "id": "9eifi_ZHXcqe"
      },
      "execution_count": 3,
      "outputs": []
    },
    {
      "cell_type": "code",
      "source": [
        "knn = KNeighborsClassifier(n_neighbors=3, metric=generalized_social_distance_wrapper)\n",
        "\n",
        "knn.fit(X_train, y_train)\n",
        "y_pred_knn = knn.predict(X_test)\n",
        "\n",
        "# Evaluate KNN\n",
        "knn_accuracy = accuracy_score(y_test, y_pred_knn)\n",
        "knn_confusion_matrix = confusion_matrix(y_test, y_pred_knn)\n",
        "knn_classification_report = classification_report(y_test, y_pred_knn)\n",
        "\n",
        "# Print the results\n",
        "print(\"KNN Accuracy:\", knn_accuracy)\n",
        "print(\"KNN Confusion Matrix:\")\n",
        "print(knn_confusion_matrix)\n",
        "print(\"KNN Classification Report:\")\n",
        "print(knn_classification_report)"
      ],
      "metadata": {
        "id": "GKwRUpvuXfY7"
      },
      "execution_count": null,
      "outputs": []
    }
  ]
}