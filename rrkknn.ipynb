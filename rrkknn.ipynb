{
 "cells": [
  {
   "cell_type": "code",
   "execution_count": 1,
   "metadata": {},
   "outputs": [],
   "source": [
    "# Import necessary libraries\n",
    "import numpy as np\n",
    "from sklearn.datasets import load_breast_cancer\n",
    "from sklearn.model_selection import train_test_split\n",
    "from sklearn.preprocessing import StandardScaler\n",
    "from sklearn.metrics import accuracy_score, confusion_matrix, classification_report\n",
    "from sklearn.neighbors import KNeighborsClassifier\n"
   ]
  },
  {
   "cell_type": "markdown",
   "metadata": {},
   "source": [
    "Load and Preprocess the Data"
   ]
  },
  {
   "cell_type": "code",
   "execution_count": 2,
   "metadata": {},
   "outputs": [],
   "source": [
    "# Load the breast cancer dataset\n",
    "data = load_breast_cancer()\n",
    "X = data.data  # Features\n",
    "y = data.target  # Labels (0: malignant, 1: benign)\n",
    "\n",
    "# Split the dataset into training and testing sets\n",
    "X_train, X_test, y_train, y_test = train_test_split(X, y, test_size=0.2, random_state=42)\n",
    "\n",
    "# Standardize the dataset (scaling features)\n",
    "scaler = StandardScaler()\n",
    "X_train = scaler.fit_transform(X_train)\n",
    "X_test = scaler.transform(X_test)\n"
   ]
  },
  {
   "cell_type": "markdown",
   "metadata": {},
   "source": [
    "Define the Generalized Social Distance Function"
   ]
  },
  {
   "cell_type": "code",
   "execution_count": 7,
   "metadata": {},
   "outputs": [],
   "source": [
    "# Define the generalized social distance function\n",
    "def generalized_social_distance(x, y, data_set=None, k=2):\n",
    "    def euclidean_distance(p1, p2):\n",
    "        return np.sqrt(np.sum((p1 - p2) ** 2))\n",
    "\n",
    "    # Calculate distances between x and all other points in the data_set using the distance_metric\n",
    "    distances_x = [euclidean_distance(x, point) for point in data_set]\n",
    "    distances_y = [euclidean_distance(y, point) for point in data_set]\n",
    "\n",
    "    # Calculate ranks\n",
    "    mx_y = sum(1 for dx in distances_x if 0 < dx < euclidean_distance(x, y))\n",
    "    mx_eq = sum(1 for dx in distances_x if dx == euclidean_distance(x, y))\n",
    "    my_x = sum(1 for dy in distances_y if 0 < dy < euclidean_distance(x, y))\n",
    "    my_eq = sum(1 for dy in distances_y if dy == euclidean_distance(x, y))\n",
    "\n",
    "    # Handle the case where mx_y + mx_eq or my_x + my_eq is zero\n",
    "    if mx_y + mx_eq == 0 or my_x + my_eq == 0:\n",
    "        return float('inf')\n",
    "\n",
    "    # Calculate Lk distance\n",
    "    lk_distance = (mx_y**k + mx_eq**k) / (mx_y + mx_eq) + (my_x**k + my_eq**k) / (my_x + my_eq)\n",
    "\n",
    "    # Calculate Generalized Social Distance\n",
    "    generalized_social_distance = lk_distance / (1 + lk_distance)\n",
    "\n",
    "    return generalized_social_distance\n"
   ]
  },
  {
   "cell_type": "markdown",
   "metadata": {},
   "source": [
    "Compute the Distance Matrix"
   ]
  },
  {
   "cell_type": "code",
   "execution_count": null,
   "metadata": {},
   "outputs": [],
   "source": [
    "# Precompute the generalized social distance matrix\n",
    "def compute_distance_matrix(X_train):\n",
    "    n_samples = X_train.shape[0]\n",
    "    distance_matrix = np.zeros((n_samples, n_samples))\n",
    "\n",
    "    for i in range(n_samples):\n",
    "        for j in range(i + 1, n_samples):\n",
    "            dist = generalized_social_distance(X_train[i], X_train[j], data_set=X_train)\n",
    "            distance_matrix[i, j] = dist\n",
    "            distance_matrix[j, i] = dist  # Symmetric matrix\n",
    "\n",
    "    return distance_matrix\n",
    "\n",
    "# Compute the distance matrix for X_train\n",
    "distance_matrix_train = compute_distance_matrix(X_train)\n"
   ]
  },
  {
   "cell_type": "markdown",
   "metadata": {},
   "source": [
    "Use Precomputed Distance Matrix with scikit-learn's KNN"
   ]
  },
  {
   "cell_type": "code",
   "execution_count": null,
   "metadata": {},
   "outputs": [],
   "source": [
    "# Function to evaluate KNN with precomputed distances for different n_neighbors\n",
    "def evaluate_knn_with_precomputed(n_neighbors):\n",
    "    # Initialize scikit-learn's KNeighborsClassifier with precomputed distances\n",
    "    knn = KNeighborsClassifier(n_neighbors=n_neighbors, metric='precomputed')\n",
    "\n",
    "    # Fit the model (using the precomputed distance matrix)\n",
    "    knn.fit(distance_matrix_train, y_train)\n",
    "\n",
    "    # Compute distance matrix for test set and train set\n",
    "    n_test = X_test.shape[0]\n",
    "    distance_matrix_test = np.zeros((n_test, X_train.shape[0]))\n",
    "    \n",
    "    for i in range(n_test):\n",
    "        for j in range(X_train.shape[0]):\n",
    "            distance_matrix_test[i, j] = generalized_social_distance(X_test[i], X_train[j], data_set=X_train)\n",
    "    \n",
    "    # Make predictions\n",
    "    y_pred = knn.predict(distance_matrix_test)\n",
    "\n",
    "    # Evaluate the model\n",
    "    accuracy = accuracy_score(y_test, y_pred)\n",
    "    confusion = confusion_matrix(y_test, y_pred)\n",
    "    report = classification_report(y_test, y_pred)\n",
    "\n",
    "    # Print the results\n",
    "    print(f\"KNN Accuracy with n_neighbors={n_neighbors}: {accuracy}\")\n",
    "    print(\"Confusion Matrix:\")\n",
    "    print(confusion)\n",
    "    print(\"Classification Report:\")\n",
    "    print(report)\n"
   ]
  },
  {
   "cell_type": "markdown",
   "metadata": {},
   "source": [
    "Cell 6: Fit the Model and Make Predictions"
   ]
  },
  {
   "cell_type": "markdown",
   "metadata": {},
   "source": [
    "# Use the precomputed distance matrix for training\n",
    "knn = PrecomputedDistanceKNN(n_neighbors=3, distance_matrix=distance_matrix_train)\n",
    "\n",
    "# Fit the model using the precomputed distance matrix\n",
    "knn.fit(X_train, y_train)\n",
    "\n",
    "# Make predictions\n",
    "y_pred_knn = knn.predict(X_test)\n"
   ]
  },
  {
   "cell_type": "markdown",
   "metadata": {},
   "source": [
    "Cell 7: Evaluate the Model"
   ]
  },
  {
   "cell_type": "code",
   "execution_count": null,
   "metadata": {},
   "outputs": [],
   "source": [
    "# Evaluate for different n_neighbors without recalculating the distance matrix\n",
    "evaluate_knn_with_precomputed(n_neighbors=3)\n",
    "evaluate_knn_with_precomputed(n_neighbors=5)\n",
    "evaluate_knn_with_precomputed(n_neighbors=7)\n"
   ]
  },
  {
   "cell_type": "code",
   "execution_count": null,
   "metadata": {},
   "outputs": [],
   "source": []
  }
 ],
 "metadata": {
  "kernelspec": {
   "display_name": "Python 3",
   "language": "python",
   "name": "python3"
  },
  "language_info": {
   "codemirror_mode": {
    "name": "ipython",
    "version": 3
   },
   "file_extension": ".py",
   "mimetype": "text/x-python",
   "name": "python",
   "nbconvert_exporter": "python",
   "pygments_lexer": "ipython3",
   "version": "3.12.1"
  }
 },
 "nbformat": 4,
 "nbformat_minor": 2
}
